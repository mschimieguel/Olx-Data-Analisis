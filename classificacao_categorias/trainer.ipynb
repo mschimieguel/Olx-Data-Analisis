{
 "cells": [
  {
   "cell_type": "code",
   "execution_count": 1,
   "source": [
    "import re\r\n",
    "import pickle\r\n",
    "import sqlite3 as sl\r\n",
    "from unicodedata import normalize\r\n",
    "import pandas as pd\r\n",
    "from pathlib import Path\r\n",
    "import nltk\r\n",
    "from nltk.corpus import stopwords\r\n",
    "from sklearn.naive_bayes import BernoulliNB\r\n",
    "from scipy.sparse import dok_matrix\r\n",
    "import numpy as np\r\n",
    "nltk.download('stopwords')\r\n",
    "con = sl.connect('../coleta_de_dados/banco_scraping_olx.db')"
   ],
   "outputs": [
    {
     "output_type": "stream",
     "name": "stderr",
     "text": [
      "[nltk_data] Downloading package stopwords to\n",
      "[nltk_data]     C:\\Users\\ANACLARASAMARINO\\AppData\\Roaming\\nltk_data...\n",
      "[nltk_data]   Package stopwords is already up-to-date!\n"
     ]
    }
   ],
   "metadata": {}
  },
  {
   "cell_type": "code",
   "execution_count": 2,
   "source": [
    "rng = np.random.RandomState(1)\r\n",
    "X2 = rng.randint(5, size=(6, 100))"
   ],
   "outputs": [],
   "metadata": {}
  },
  {
   "cell_type": "code",
   "execution_count": 3,
   "source": [
    "X = dok_matrix((5, 5), dtype=np.int8)"
   ],
   "outputs": [],
   "metadata": {}
  },
  {
   "cell_type": "code",
   "execution_count": 4,
   "source": [
    "def normaliza_texto_vetorizado(text:str)->str: \r\n",
    "    frase_minuscula = normalize('NFKD', text).encode('ASCII', 'ignore').decode('ASCII').lower()\r\n",
    "    somente_palavras_validas = re.sub(\"([^\\w]+)|((\\w|d)*[\\d](\\w|d)*)\",\" \",frase_minuscula)\r\n",
    "    texto_normalizado = re.sub(\"\\s+\",\" \",somente_palavras_validas).strip()\r\n",
    "    return texto_normalizado.split(\" \")"
   ],
   "outputs": [],
   "metadata": {}
  },
  {
   "cell_type": "code",
   "execution_count": 5,
   "source": [
    "todos_titulos = pd.read_sql(\"\"\"\r\n",
    "SELECT DISTINCT \r\n",
    "\turl_anuncio,\t\r\n",
    "\ttitulo_anuncio\t\r\n",
    "FROM\r\n",
    "\tanuncios_resumo\r\n",
    "\"\"\", con, chunksize=1000000)"
   ],
   "outputs": [],
   "metadata": {}
  },
  {
   "cell_type": "code",
   "execution_count": 6,
   "source": [
    "def constroi_dicionario_palavras(df_pandas_chunked,dicionario):\r\n",
    "    qt_linhas_processadas = 0\r\n",
    "    for df in df_pandas_chunked:\r\n",
    "        qt_linhas_processadas += len(df)\r\n",
    "        print(f\"qt linhas processadas: {qt_linhas_processadas}\")\r\n",
    "        for titulo in df['titulo_anuncio']:\r\n",
    "            titulo_vetorizado = normaliza_texto_vetorizado(titulo)\r\n",
    "            for palavras_titulo in titulo_vetorizado:\r\n",
    "                if palavras_titulo:\r\n",
    "                    if dicionario.get(palavras_titulo):\r\n",
    "                        dicionario[palavras_titulo]+=1\r\n",
    "                    else:\r\n",
    "                        dicionario[palavras_titulo]=1"
   ],
   "outputs": [],
   "metadata": {}
  },
  {
   "cell_type": "code",
   "execution_count": 7,
   "source": [
    "def filtrar_dicionario(dicionario_palavras,qtd_minima_palavras_usadas = 5):\r\n",
    "    artigos_preposicoes = stopwords.words('portuguese')\r\n",
    "    todas_chaves = dicionario_palavras.keys()\r\n",
    "    chaves_para_excluir=[]\r\n",
    "    for chave in todas_chaves:\r\n",
    "        if chave in artigos_preposicoes or dicionario_palavras[chave] < qtd_minima_palavras_usadas or len(chave)<=3:\r\n",
    "            chaves_para_excluir.append(chave)\r\n",
    "    for chave_ex in chaves_para_excluir:\r\n",
    "        del dicionario_palavras[chave_ex]"
   ],
   "outputs": [],
   "metadata": {}
  },
  {
   "cell_type": "code",
   "execution_count": 8,
   "source": [
    "dicionario_todas_palavras = {}\r\n",
    "\r\n",
    "if not Path('./dicionario_todas_palavras.pkl').is_file():\r\n",
    "    constroi_dicionario_palavras(todos_titulos,dicionario_todas_palavras)\r\n",
    "    filtrar_dicionario(dicionario_todas_palavras,30)\r\n",
    "    with open('./dicionario_todas_palavras.pkl', 'wb') as file:\r\n",
    "        pickle.dump(dicionario_todas_palavras, file) \r\n",
    "else :\r\n",
    "    with open('./dicionario_todas_palavras.pkl', 'rb') as file:\r\n",
    "        dicionario_todas_palavras = pickle.load(file)\r\n",
    "\r\n",
    "lista_todas_palavras = [*dicionario_todas_palavras.keys()]      "
   ],
   "outputs": [],
   "metadata": {}
  },
  {
   "cell_type": "code",
   "execution_count": 9,
   "source": [
    "df_todas_categorias = pd.read_sql(\"\"\"\r\n",
    "SELECT DISTINCT \r\n",
    "\tcategoria_atual\r\n",
    "FROM\r\n",
    "\tanuncios_resumo\r\n",
    "\"\"\", con)\r\n",
    "lista_todas_categorias = [*df_todas_categorias['categoria_atual']]"
   ],
   "outputs": [],
   "metadata": {}
  },
  {
   "cell_type": "code",
   "execution_count": 10,
   "source": [
    "def categoria_para_indice(categoria,lista_todas_categorias):\r\n",
    "    if lista_todas_categorias.count(categoria):\r\n",
    "        return lista_todas_categorias.index(categoria)\r\n",
    "    else:\r\n",
    "        return -1\r\n",
    "def titulo_para_indices(titulo,lista_todas_palavras):\r\n",
    "    lista_palavras_titulo = normaliza_texto_vetorizado(titulo)\r\n",
    "    indices_titulo =[]\r\n",
    "    for palavra_titulo in lista_palavras_titulo:\r\n",
    "        if lista_todas_palavras.count(palavra_titulo):\r\n",
    "            indices_titulo.append(lista_todas_palavras.index(palavra_titulo))\r\n",
    "    return indices_titulo                 "
   ],
   "outputs": [],
   "metadata": {}
  },
  {
   "cell_type": "code",
   "execution_count": 11,
   "source": [
    "categoria_para_indice('Artigos infantis',lista_todas_categorias)\r\n",
    "titulo_para_indices('baba de cachorro com casa grande',lista_todas_palavras)"
   ],
   "outputs": [
    {
     "output_type": "execute_result",
     "data": {
      "text/plain": [
       "[2, 1074, 323, 13]"
      ]
     },
     "metadata": {},
     "execution_count": 11
    }
   ],
   "metadata": {}
  },
  {
   "cell_type": "code",
   "execution_count": 129,
   "source": [
    "lista_precos = [*range(10)] # coluna que ira classificar o preço (sera usado log 10)"
   ],
   "outputs": [],
   "metadata": {}
  },
  {
   "cell_type": "code",
   "execution_count": 130,
   "source": [
    "def preco_para_indice(preco,indice_start=0):\r\n",
    "    if isinstance(preco,float) or isinstance(preco,int):\r\n",
    "        if preco>1:\r\n",
    "            index = np.ceil(np.log10(preco))\r\n",
    "            index = int(index) if index>=0 and index<=len(lista_precos) else 0\r\n",
    "            return index+indice_start\r\n",
    "    return 0"
   ],
   "outputs": [],
   "metadata": {}
  },
  {
   "cell_type": "code",
   "execution_count": 131,
   "source": [
    "def monta_sql_por_categoria(categoria):\r\n",
    "    return f\"\"\"SELECT DISTINCT \r\n",
    "                    url_anuncio,\r\n",
    "                    titulo_anuncio,\r\n",
    "                    categoria_atual,\r\n",
    "                    preco_anuncio\r\n",
    "                FROM\r\n",
    "                    anuncios_resumo\r\n",
    "                WHERE categoria_atual = '{categoria}'\r\n",
    "                LIMIT 100 -- TIRAR isso DEPOIS\r\n",
    "                \"\"\""
   ],
   "outputs": [],
   "metadata": {}
  },
  {
   "cell_type": "code",
   "execution_count": 132,
   "source": [
    "classes_y = [*range(len(lista_todas_categorias))]"
   ],
   "outputs": [],
   "metadata": {}
  },
  {
   "cell_type": "code",
   "execution_count": 133,
   "source": [
    "clf = BernoulliNB() # Modelo Usado (teste com Bernoulli)"
   ],
   "outputs": [],
   "metadata": {}
  },
  {
   "cell_type": "code",
   "execution_count": 134,
   "source": [
    "for categoria in lista_todas_categorias:\r\n",
    "    df_cat_atual = pd.read_sql(monta_sql_por_categoria(categoria),con)\r\n",
    "    print(f'Treinando Modelo para a Categoria: {categoria}')\r\n",
    "    qt_colunas = len(lista_todas_palavras)+len(lista_precos)\r\n",
    "    X = dok_matrix((len(df_cat_atual), qt_colunas), dtype=np.int8)\r\n",
    "    for linha in range(len(df_cat_atual)): # Adiciona valores  na matrix espaça\r\n",
    "        indices_palavras_titulo = titulo_para_indices(df_cat_atual['titulo_anuncio'][linha],lista_todas_palavras)\r\n",
    "        X[linha,preco_para_indice(df_cat_atual['preco_anuncio'][linha],len(lista_todas_palavras))] = 1 # ref a faixa de precos\r\n",
    "        for indice_palavra in indices_palavras_titulo:\r\n",
    "            X[linha,indice_palavra] = 1\r\n",
    "    Y = np.full(len(df_cat_atual),categoria_para_indice(df_cat_atual['categoria_atual'][0],lista_todas_categorias)) \r\n",
    "    clf.partial_fit(X,Y,classes=classes_y) #Treina o Modelo      "
   ],
   "outputs": [
    {
     "output_type": "stream",
     "name": "stdout",
     "text": [
      "Treinando Modelo para a Categoria: Aluguel - casas e apartamentos\n",
      "Treinando Modelo para a Categoria: Animais para agropecuária\n",
      "Treinando Modelo para a Categoria: Antiguidades\n",
      "Treinando Modelo para a Categoria: Aquários e acessórios\n",
      "Treinando Modelo para a Categoria: Artigos infantis\n",
      "Treinando Modelo para a Categoria: Barcos e aeronaves\n",
      "Treinando Modelo para a Categoria: Beleza e saúde\n",
      "Treinando Modelo para a Categoria: Bijouterias, relógios e acessórios\n",
      "Treinando Modelo para a Categoria: Bolsas, malas e mochilas\n",
      "Treinando Modelo para a Categoria: CDs, DVDs etc\n",
      "Treinando Modelo para a Categoria: Cachorros\n",
      "Treinando Modelo para a Categoria: Caminhões\n",
      "Treinando Modelo para a Categoria: Carros, vans e utilitários\n",
      "Treinando Modelo para a Categoria: Cavalos\n",
      "Treinando Modelo para a Categoria: Celulares e telefonia\n",
      "Treinando Modelo para a Categoria: Ciclismo\n",
      "Treinando Modelo para a Categoria: Computadores e acessórios\n",
      "Treinando Modelo para a Categoria: Comércio e indústria\n",
      "Treinando Modelo para a Categoria: Eletrodomésticos\n",
      "Treinando Modelo para a Categoria: Eletrônicos e celulares\n",
      "Treinando Modelo para a Categoria: Equipamentos e mobiliário\n",
      "Treinando Modelo para a Categoria: Esportes e ginástica\n",
      "Treinando Modelo para a Categoria: Esportes e lazer\n",
      "Treinando Modelo para a Categoria: Gatos\n",
      "Treinando Modelo para a Categoria: Hobbies e coleções\n",
      "Treinando Modelo para a Categoria: Instrumentos musicais\n",
      "Treinando Modelo para a Categoria: Lançamentos\n",
      "Treinando Modelo para a Categoria: Livros e revistas\n",
      "Treinando Modelo para a Categoria: Materiais de construção e jardim\n",
      "Treinando Modelo para a Categoria: Moda e beleza\n",
      "Treinando Modelo para a Categoria: Motos\n",
      "Treinando Modelo para a Categoria: Máquinas para produção industrial\n",
      "Treinando Modelo para a Categoria: Máquinas pesadas para construção\n",
      "Treinando Modelo para a Categoria: Móveis\n",
      "Treinando Modelo para a Categoria: Música e hobbies\n",
      "Treinando Modelo para a Categoria: Objetos de decoração\n",
      "Treinando Modelo para a Categoria: Outros animais\n",
      "Treinando Modelo para a Categoria: Outros itens para agro e indústria\n",
      "Treinando Modelo para a Categoria: Outros itens para comércio e escritório\n",
      "Treinando Modelo para a Categoria: Para a sua casa\n",
      "Treinando Modelo para a Categoria: Peças para barcos e aeronaves\n",
      "Treinando Modelo para a Categoria: Peças para caminhões\n",
      "Treinando Modelo para a Categoria: Peças para carros, vans e utilitários\n",
      "Treinando Modelo para a Categoria: Peças para motos\n",
      "Treinando Modelo para a Categoria: Peças para tratores e máquinas\n",
      "Treinando Modelo para a Categoria: Peças para ônibus\n",
      "Treinando Modelo para a Categoria: Produção Rural\n",
      "Treinando Modelo para a Categoria: Roedores\n",
      "Treinando Modelo para a Categoria: Roupas e calçados\n",
      "Treinando Modelo para a Categoria: Serviços\n",
      "Treinando Modelo para a Categoria: Temporada\n",
      "Treinando Modelo para a Categoria: Terrenos, sítios e fazendas\n",
      "Treinando Modelo para a Categoria: Trailers e carrinhos comerciais\n",
      "Treinando Modelo para a Categoria: Tratores e máquinas agrícolas\n",
      "Treinando Modelo para a Categoria: Utilidades domésticas\n",
      "Treinando Modelo para a Categoria: Vagas de emprego\n",
      "Treinando Modelo para a Categoria: Venda - casas e apartamentos\n",
      "Treinando Modelo para a Categoria: Videogames\n",
      "Treinando Modelo para a Categoria: Áudio, TV, vídeo e fotografia\n",
      "Treinando Modelo para a Categoria: Ônibus\n"
     ]
    }
   ],
   "metadata": {}
  },
  {
   "cell_type": "code",
   "execution_count": 141,
   "source": [
    "def procura_categoria(titulo,preco=None,qt_impr=5):\r\n",
    "    qt_colunas = len(lista_todas_palavras)+len(lista_precos)\r\n",
    "    XN = dok_matrix((1, qt_colunas), dtype=np.int8)\r\n",
    "    if preco:\r\n",
    "        XN[0,preco_para_indice(preco,len(lista_todas_palavras))] = 1\r\n",
    "    indices_palavras_titulo = titulo_para_indices(titulo,lista_todas_palavras)\r\n",
    "    for indice_palavra in indices_palavras_titulo:\r\n",
    "        XN[0,indice_palavra] = 1\r\n",
    "    categorias_prob = clf.predict_proba(XN[0])\r\n",
    "    indice_categorias_ordenado = np.flip(np.argsort(categorias_prob))\r\n",
    "    limite_impressoes = qt_impr\r\n",
    "    for indice_categoria in indice_categorias_ordenado.tolist()[0]:\r\n",
    "        # print(indice_categoria)\r\n",
    "        print(f'{lista_todas_categorias[indice_categoria]}:{categorias_prob[0][indice_categoria]*100:.2f}%')\r\n",
    "        if limite_impressoes<=0:\r\n",
    "            break\r\n",
    "        limite_impressoes -=1"
   ],
   "outputs": [],
   "metadata": {}
  },
  {
   "cell_type": "code",
   "execution_count": 152,
   "source": [
    "procura_categoria('honda fit',100000)"
   ],
   "outputs": [
    {
     "output_type": "stream",
     "name": "stdout",
     "text": [
      "Motos:51.88%\n",
      "Carros, vans e utilitários:17.13%\n",
      "Barcos e aeronaves:14.36%\n",
      "Ônibus:4.20%\n",
      "Caminhões:3.95%\n",
      "Tratores e máquinas agrícolas:2.42%\n"
     ]
    }
   ],
   "metadata": {}
  }
 ],
 "metadata": {
  "kernelspec": {
   "name": "python3",
   "display_name": "Python 3.9.1 64-bit ('venv': venv)"
  },
  "language_info": {
   "codemirror_mode": {
    "name": "ipython",
    "version": 3
   },
   "file_extension": ".py",
   "mimetype": "text/x-python",
   "name": "python",
   "nbconvert_exporter": "python",
   "pygments_lexer": "ipython3",
   "version": "3.9.1"
  },
  "interpreter": {
   "hash": "56a7faacf1c4dc0f5d7b7afc61346b24d10927f5de434ccac7dd24944d9b691b"
  }
 },
 "nbformat": 4,
 "nbformat_minor": 4
}