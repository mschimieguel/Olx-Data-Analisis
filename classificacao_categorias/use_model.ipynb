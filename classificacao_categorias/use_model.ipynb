{
 "cells": [
  {
   "cell_type": "code",
   "execution_count": 3,
   "source": [
    "import re\r\n",
    "import pickle \r\n",
    "import sqlite3 as sl\r\n",
    "from unicodedata import normalize\r\n",
    "import pandas as pd\r\n",
    "from pathlib import Path\r\n",
    "from sklearn.naive_bayes import BernoulliNB\r\n",
    "from scipy import sparse\r\n",
    "import numpy as np\r\n",
    "con = sl.connect('../coleta_de_dados/banco_scraping_olx.db')"
   ],
   "outputs": [],
   "metadata": {}
  },
  {
   "cell_type": "code",
   "execution_count": 4,
   "source": [
    "## Carregando o modelo"
   ],
   "outputs": [],
   "metadata": {}
  },
  {
   "cell_type": "code",
   "execution_count": 5,
   "source": [
    "with open('./BernoulliNB_model.pkl', 'rb') as file:\r\n",
    "    clf = pickle.load(file)\r\n",
    "\r\n",
    "with open('./BernoulliNB_model_adds.pkl', 'rb') as file:\r\n",
    "    model_add_data = pickle.load(file)   \r\n",
    "\r\n",
    "lista_todas_palavras = model_add_data['lista_todas_palavras'] \r\n",
    "lista_precos = model_add_data['lista_precos'] \r\n",
    "lista_todas_categorias = model_add_data['lista_todas_categorias']    "
   ],
   "outputs": [],
   "metadata": {}
  },
  {
   "cell_type": "code",
   "execution_count": 6,
   "source": [
    "## Usando o Modelo"
   ],
   "outputs": [],
   "metadata": {}
  },
  {
   "cell_type": "code",
   "execution_count": 7,
   "source": [
    "def normaliza_texto_vetorizado(text:str)->str: \r\n",
    "    \"\"\"\r\n",
    "    função criada para transformar os títulos dos anuncios em um formato padronizado, sem caracteres especiais e sem números\r\n",
    "    \"\"\"\r\n",
    "    frase_minuscula = normalize('NFKD', text).encode('ASCII', 'ignore').decode('ASCII').lower() #normaliza para retirar acentos e transforma para minuscula\r\n",
    "    somente_palavras_validas = re.sub(\"([^\\w]+)|((\\w|d)*[\\d](\\w|d)*)\",\" \",frase_minuscula) #substitui a string acima por uma string sem numeros e sem caracteres especiais\r\n",
    "    texto_normalizado = re.sub(\"\\s+\",\" \",somente_palavras_validas).strip() #substitui um ou mais espaços da string acima por um único espaço\r\n",
    "    return texto_normalizado.split(\" \") #retorna uma lista com as palavras válidas \r\n",
    "\r\n",
    "def categoria_para_indice(categoria,lista_todas_categorias):\r\n",
    "    \"\"\"verifica qual o índice da categoria informada conforme a lista_todas_categorias\"\"\"\r\n",
    "    if lista_todas_categorias.count(categoria): #se existir a categoria na lista,\r\n",
    "        return lista_todas_categorias.index(categoria) #retorna o indice da categoria na lista_todas_categorias\r\n",
    "    else:\r\n",
    "        return -1 #caso contrário, retorna -1\r\n",
    "        \r\n",
    "def titulo_para_indices(titulo,lista_todas_palavras): \r\n",
    "    \"\"\"verifica qual o indice \"\"\"\r\n",
    "    lista_palavras_titulo = normaliza_texto_vetorizado(titulo) #normaliza o título informado\r\n",
    "    indices_titulo =[] #lista de indices (conforme lista_todas_palavras) referentes as palavras do título\r\n",
    "    for palavra_titulo in lista_palavras_titulo: #para cada palavra na lista_palavras_titulo,\r\n",
    "        if lista_todas_palavras.count(palavra_titulo): #se existir a palavra do título na lista lista_todas_palavras, \r\n",
    "            indices_titulo.append(lista_todas_palavras.index(palavra_titulo)) #adiciona o indice da palavra(indice referente a lista_todas_palavras) na indices_titulo\r\n",
    "    return indices_titulo   #retorna uma lista com os indices do titulo\r\n",
    "\r\n",
    "def preco_para_indice(preco,indice_start=0):\r\n",
    "    \"\"\"\r\n",
    "    Atribui um índice para um range de preços na escala log\r\n",
    "    \"\"\"\r\n",
    "    if isinstance(preco,float) or isinstance(preco,int): #se o preço for int ou float retorna true e segue\r\n",
    "        if preco>1:\r\n",
    "            index = np.ceil(np.log10(preco)) #arredonda o valor de Log(preço) na base 10 para servir como um índice\r\n",
    "            index = int(index) if index>=0 and index<len(lista_precos) else 0 #passa o indice para inteiro se indice for >= 0 e for menor do que o tamaho da lista_preços\r\n",
    "            return index+indice_start #indice_start -> começa depois do termino da matriz de palavras\r\n",
    "    return 0              "
   ],
   "outputs": [],
   "metadata": {}
  },
  {
   "cell_type": "code",
   "execution_count": 8,
   "source": [
    "def procura_categoria(titulo,preco=None,qt_impr=5):\r\n",
    "    \"\"\" \r\n",
    "    Função para testar as entradas com base no título e no preço do produto a ser cadastrado\r\n",
    "    \"\"\"\r\n",
    "    qt_colunas = len(lista_todas_palavras)+len(lista_precos) #qt de colunas da matriz\r\n",
    "    XN = sparse.dok_matrix((1, qt_colunas), dtype=np.int8) #constrói matriz esparsa XN de forma incremental\r\n",
    "    if preco:\r\n",
    "        XN[0,preco_para_indice(preco,len(lista_todas_palavras))] = 1 #popula 1 na coluna referente ao preço\r\n",
    "\r\n",
    "    indices_palavras_titulo = titulo_para_indices(titulo,lista_todas_palavras) #lista com os indices das palavras do titulo\r\n",
    "    for indice_palavra in indices_palavras_titulo: \r\n",
    "        XN[0,indice_palavra] = 1 #popula 1 nas colunas referentes às palavras do título com base nos índices de indices_palavras_titulo\r\n",
    "\r\n",
    "    categorias_prob = clf.predict_proba(XN[0]) # retorna a probabilidade referente a cada categoria\r\n",
    "    indice_categorias_ordenado = np.flip(np.argsort(categorias_prob)) #ordena os indices de acordo com a probabilidade decrescente\r\n",
    "    limite_impressoes = qt_impr #variável que define a quantidade de categorias a serem impressas\r\n",
    "    for indice_categoria in indice_categorias_ordenado.tolist()[0]:\r\n",
    "        print(f'{lista_todas_categorias[indice_categoria]}:{categorias_prob[0][indice_categoria]*100:.2f}%') #imprime uma categoria e o percentual referente a ela (ordem decrescente)\r\n",
    "        if limite_impressoes<=1:\r\n",
    "            break\r\n",
    "        limite_impressoes -=1"
   ],
   "outputs": [],
   "metadata": {}
  },
  {
   "cell_type": "code",
   "execution_count": 9,
   "source": [
    "procura_categoria('Chevrolet Onix')"
   ],
   "outputs": [
    {
     "output_type": "stream",
     "name": "stdout",
     "text": [
      "Carros, vans e utilitários:93.02%\n",
      "Peças para carros, vans e utilitários:6.87%\n",
      "Caminhões:0.02%\n",
      "Produção Rural:0.02%\n",
      "Hobbies e coleções:0.02%\n"
     ]
    }
   ],
   "metadata": {}
  }
 ],
 "metadata": {
  "kernelspec": {
   "name": "python3",
   "display_name": "Python 3.9.1 64-bit ('venv': venv)"
  },
  "language_info": {
   "codemirror_mode": {
    "name": "ipython",
    "version": 3
   },
   "file_extension": ".py",
   "mimetype": "text/x-python",
   "name": "python",
   "nbconvert_exporter": "python",
   "pygments_lexer": "ipython3",
   "version": "3.9.1"
  },
  "orig_nbformat": 4,
  "vscode": {
   "interpreter": {
    "hash": "0dcf5a16a6fce77cb5376130f3101369703c9e3c3f81d1b99902994fbf068884"
   }
  },
  "interpreter": {
   "hash": "56a7faacf1c4dc0f5d7b7afc61346b24d10927f5de434ccac7dd24944d9b691b"
  }
 },
 "nbformat": 4,
 "nbformat_minor": 2
}