{
 "cells": [
  {
   "cell_type": "code",
   "execution_count": 2,
   "metadata": {},
   "outputs": [],
   "source": [
    "import re\n",
    "import pickle \n",
    "import sqlite3 as sl\n",
    "from unicodedata import normalize\n",
    "import pandas as pd\n",
    "from pathlib import Path\n",
    "from sklearn.naive_bayes import BernoulliNB\n",
    "from scipy import sparse\n",
    "import numpy as np\n",
    "con = sl.connect('../coleta_de_dados/banco_scraping_olx.db')"
   ]
  },
  {
   "cell_type": "code",
   "execution_count": 3,
   "metadata": {},
   "outputs": [],
   "source": [
    "## Carregando o modelo"
   ]
  },
  {
   "cell_type": "code",
   "execution_count": 4,
   "metadata": {},
   "outputs": [],
   "source": [
    "with open('./BernoulliNB_model.pkl', 'rb') as file:\n",
    "    clf = pickle.load(file)\n",
    "\n",
    "with open('./BernoulliNB_model_adds.pkl', 'rb') as file:\n",
    "    model_add_data = pickle.load(file)   \n",
    "\n",
    "lista_todas_palavras = model_add_data['lista_todas_palavras'] \n",
    "lista_precos = model_add_data['lista_precos'] \n",
    "lista_todas_categorias = model_add_data['lista_todas_categorias']    "
   ]
  },
  {
   "cell_type": "code",
   "execution_count": 5,
   "metadata": {},
   "outputs": [],
   "source": [
    "## Usando o Modelo"
   ]
  },
  {
   "cell_type": "code",
   "execution_count": 6,
   "metadata": {},
   "outputs": [],
   "source": [
    "def normaliza_texto_vetorizado(text:str)->str: \n",
    "    \"\"\"\n",
    "    função criada para transformar os títulos dos anuncios em um formato padronizado, sem caracteres especiais e sem números\n",
    "    \"\"\"\n",
    "    frase_minuscula = normalize('NFKD', text).encode('ASCII', 'ignore').decode('ASCII').lower() #normaliza para retirar acentos e transforma para minuscula\n",
    "    somente_palavras_validas = re.sub(\"([^\\w]+)|((\\w|d)*[\\d](\\w|d)*)\",\" \",frase_minuscula) #substitui a string acima por uma string sem numeros e sem caracteres especiais\n",
    "    texto_normalizado = re.sub(\"\\s+\",\" \",somente_palavras_validas).strip() #substitui um ou mais espaços da string acima por um único espaço\n",
    "    return texto_normalizado.split(\" \") #retorna uma lista com as palavras válidas \n",
    "\n",
    "def categoria_para_indice(categoria,lista_todas_categorias):\n",
    "    \"\"\"verifica qual o índice da categoria informada conforme a lista_todas_categorias\"\"\"\n",
    "    if lista_todas_categorias.count(categoria): #se existir a categoria na lista,\n",
    "        return lista_todas_categorias.index(categoria) #retorna o indice da categoria na lista_todas_categorias\n",
    "    else:\n",
    "        return -1 #caso contrário, retorna -1\n",
    "        \n",
    "def titulo_para_indices(titulo,lista_todas_palavras): \n",
    "    \"\"\"verifica qual o indice \"\"\"\n",
    "    lista_palavras_titulo = normaliza_texto_vetorizado(titulo) #normaliza o título informado\n",
    "    indices_titulo =[] #lista de indices (conforme lista_todas_palavras) referentes as palavras do título\n",
    "    for palavra_titulo in lista_palavras_titulo: #para cada palavra na lista_palavras_titulo,\n",
    "        if lista_todas_palavras.count(palavra_titulo): #se existir a palavra do título na lista lista_todas_palavras, \n",
    "            indices_titulo.append(lista_todas_palavras.index(palavra_titulo)) #adiciona o indice da palavra(indice referente a lista_todas_palavras) na indices_titulo\n",
    "    return indices_titulo   #retorna uma lista com os indices do titulo\n",
    "\n",
    "def preco_para_indice(preco,indice_start=0):\n",
    "    \"\"\"\n",
    "    Atribui um índice para um range de preços na escala log\n",
    "    \"\"\"\n",
    "    if isinstance(preco,float) or isinstance(preco,int): #se o preço for int ou float retorna true e segue\n",
    "        if preco>1:\n",
    "            index = np.ceil(np.log10(preco)) #arredonda o valor de Log(preço) na base 10 para servir como um índice\n",
    "            index = int(index) if index>=0 and index<len(lista_precos) else 0 #passa o indice para inteiro se indice for >= 0 e for menor do que o tamaho da lista_preços\n",
    "            return index+indice_start #indice_start -> começa depois do termino da matriz de palavras\n",
    "    return 0              "
   ]
  },
  {
   "cell_type": "code",
   "execution_count": 7,
   "metadata": {},
   "outputs": [],
   "source": [
    "def procura_categoria(titulo,preco=None,qt_impr=5):\n",
    "    \"\"\" \n",
    "    Função para testar as entradas com base no título e no preço do produto a ser cadastrado\n",
    "    \"\"\"\n",
    "    qt_colunas = len(lista_todas_palavras)+len(lista_precos) #qt de colunas da matriz\n",
    "    XN = sparse.dok_matrix((1, qt_colunas), dtype=np.int8) #constrói matriz esparsa XN de forma incremental\n",
    "    if preco:\n",
    "        XN[0,preco_para_indice(preco,len(lista_todas_palavras))] = 1 #popula 1 na coluna referente ao preço\n",
    "\n",
    "    indices_palavras_titulo = titulo_para_indices(titulo,lista_todas_palavras) #lista com os indices das palavras do titulo\n",
    "    for indice_palavra in indices_palavras_titulo: \n",
    "        XN[0,indice_palavra] = 1 #popula 1 nas colunas referentes às palavras do título com base nos índices de indices_palavras_titulo\n",
    "\n",
    "    categorias_prob = clf.predict_proba(XN[0]) # retorna a probabilidade referente a cada categoria\n",
    "    indice_categorias_ordenado = np.flip(np.argsort(categorias_prob)) #ordena os indices de acordo com a probabilidade decrescente\n",
    "    limite_impressoes = qt_impr #variável que define a quantidade de categorias a serem impressas\n",
    "    for indice_categoria in indice_categorias_ordenado.tolist()[0]:\n",
    "        print(f'{lista_todas_categorias[indice_categoria]}:{categorias_prob[0][indice_categoria]*100:.2f}%') #imprime uma categoria e o percentual referente a ela (ordem decrescente)\n",
    "        if limite_impressoes<=1:\n",
    "            break\n",
    "        limite_impressoes -=1"
   ]
  },
  {
   "cell_type": "code",
   "execution_count": 10,
   "metadata": {},
   "outputs": [
    {
     "name": "stdout",
     "output_type": "stream",
     "text": [
      "Aluguel - casas e apartamentos:67.37%\n",
      "Comércio e indústria:26.52%\n",
      "Venda - casas e apartamentos:5.50%\n",
      "Temporada:0.41%\n",
      "Terrenos, sítios e fazendas:0.10%\n"
     ]
    }
   ],
   "source": [
    "procura_categoria('Aluguel casa 3 andares')"
   ]
  }
 ],
 "metadata": {
  "kernelspec": {
   "display_name": "Python 3.9.1 ('venv': venv)",
   "language": "python",
   "name": "python3"
  },
  "language_info": {
   "codemirror_mode": {
    "name": "ipython",
    "version": 3
   },
   "file_extension": ".py",
   "mimetype": "text/x-python",
   "name": "python",
   "nbconvert_exporter": "python",
   "pygments_lexer": "ipython3",
   "version": "3.9.1"
  },
  "orig_nbformat": 4,
  "vscode": {
   "interpreter": {
    "hash": "729a73dd8e443005b9893e2b306a84805d25c1cf3e8b3143dd530b02997ba339"
   }
  }
 },
 "nbformat": 4,
 "nbformat_minor": 2
}
