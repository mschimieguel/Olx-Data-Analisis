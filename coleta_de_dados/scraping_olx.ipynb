{
 "cells": [
  {
   "cell_type": "code",
   "execution_count": 1,
   "metadata": {},
   "outputs": [],
   "source": [
    "import sqlite3\n",
    "import requests\n",
    "from bs4 import BeautifulSoup\n",
    "import pandas as pd\n",
    "from datetime import datetime, timedelta"
   ]
  },
  {
   "cell_type": "code",
   "execution_count": 17,
   "metadata": {},
   "outputs": [],
   "source": [
    "class BackupApiResp:\n",
    "    def __init__(self,path_file_bk, max_days_to_valid_data = 720): \n",
    "        self.__con = sqlite3.connect(path_file_bk)\n",
    "        self.__con.row_factory = sqlite3.Row\n",
    "        self.days_to_expires = max_days_to_valid_data #validade dos dados\n",
    "        self.today = datetime.now().strftime(\"%Y-%m-%d %H:%M\")\n",
    "        self.__init_db()\n",
    "    \n",
    "    def __init_db(self):\n",
    "        sql_table_def = (\n",
    "            'CREATE TABLE IF NOT EXISTS ' \n",
    "            'anuncios_resumo ('\n",
    "                'url_lista TEXT,'\n",
    "                'categoria_completa TEXT,'\n",
    "                'categoria_atual TEXT,'\n",
    "                'localizacao_completa TEXT,'\n",
    "                'data_coleta_dados DATETIME,'\n",
    "                'titulo_anuncio TEXT,'\n",
    "                'preco_anuncio FLOAT,'\n",
    "                'anuncio_profissional INTEGER,'\n",
    "                'url_anuncio TEXT,'\n",
    "                'data_publicacao_anuncio DATETIME'\n",
    "            ');'\n",
    "        )\n",
    "\n",
    "        sql_index1_def = (\n",
    "            'CREATE INDEX IF NOT EXISTS '\n",
    "            'index_url_anuncio_ar ON '\n",
    "            'anuncios_resumo ('\n",
    "                'url_anuncio ASC'\n",
    "            ');'\n",
    "        )\n",
    "\n",
    "        sql_index2_def = (\n",
    "            'CREATE INDEX IF NOT EXISTS '\n",
    "            'index_url_lista_ar ON '\n",
    "            'anuncios_resumo ('\n",
    "                'url_lista ASC'\n",
    "            ');'\n",
    "        )\n",
    "\n",
    "        self.__con.execute(sql_table_def)\n",
    "        self.__con.execute(sql_index1_def)\n",
    "        self.__con.execute(sql_index2_def)\n",
    "        self.__con.commit()\n",
    "    \n",
    "    # def __del_row(self,cnpj,source,query=None):\n",
    "        \n",
    "    #     query_where_str = \"\"\n",
    "    #     if query:\n",
    "    #         _query = str(query).replace(\"'\",\"''\")\n",
    "    #         query_where_str = f\"AND query = '{_query}'\"\n",
    "\n",
    "    #     sql_del_row = (\n",
    "    #         \"DELETE FROM backup WHERE \"\n",
    "    #         f\"cnpj = '{cnpj}' and source = '{source}' {query_where_str};\"\n",
    "    #     )\n",
    "    #     self.__con.execute(sql_del_row)\n",
    "\n",
    "    def add_row_anuncios_resumo(self,url_lista,categoria_completa,categoria_atual,localizacao_completa,titulo_anuncio,preco_anuncio, anuncio_profissional,url_anuncio,data_publicacao_anuncio):\n",
    "        sql_insert_data = (\n",
    "            \"INSERT INTO anuncios_resumo (url_lista,categoria_completa,categoria_atual,localizacao_completa,data_coleta_dados,titulo_anuncio,preco_anuncio, anuncio_profissional,url_anuncio,data_publicacao_anuncio) \"\n",
    "            \"VALUES (\"\n",
    "                f\"'{url_lista}',\"\n",
    "                f\"'{categoria_completa}',\"\n",
    "                f\"'{categoria_atual}',\"\n",
    "                f\"'{localizacao_completa}',\"\n",
    "                f\"'{self.today}',\"\n",
    "                f\"'{titulo_anuncio}',\"\n",
    "                f\"{preco_anuncio},\"\n",
    "                f\"{anuncio_profissional},\"\n",
    "                f\"'{url_anuncio}',\"\n",
    "                f\"'{data_publicacao_anuncio}' \"\n",
    "            \");\"\n",
    "        )\n",
    "        self.__con.execute(sql_insert_data)\n",
    "        self.__con.commit()\n",
    "    \n",
    "    def date_is_valid(self,date:str):\n",
    "        data_age_days = (datetime.now()-datetime.fromisoformat(date)).days\n",
    "        return (data_age_days <= self.days_to_expires)\n",
    "\n",
    "    def has_url_ad_in_anuncio_resumo(self,url_ad):\n",
    "        sql = f\"\"\" select url_anuncio from anuncios_resumo\n",
    "                    where url_anuncio = '{url_ad}'\n",
    "                    limit 1 \"\"\"\n",
    "\n",
    "        result = self.__con.execute(sql).fetchone()\n",
    "        return True if result else False\n",
    "\n",
    "\n",
    "\n",
    "\n",
    "\n"
   ]
  },
  {
   "cell_type": "code",
   "execution_count": 12,
   "metadata": {},
   "outputs": [],
   "source": [
    "def convert_date_olx_to_datetime_str(texto_data):\n",
    "    MONTHS = {'jan': 1, 'fev': 2, 'mar': 3, 'abr': 4,  'mai': 5,  'jun': 6,\n",
    "          'jul': 7, 'ago': 8, 'set': 9, 'out': 10, 'nov': 11, 'dez': 12}\n",
    "    data, hora = texto_data.lower().split(',')\n",
    "    data_padrao = \"\"\n",
    "    \n",
    "    if 'ontem' == data :\n",
    "        data_padrao = (datetime.today() - timedelta(days=1)).strftime('%Y-%m-%d')\n",
    "    elif 'hoje' == data :\n",
    "        data_padrao = datetime.now().strftime('%Y-%m-%d')\n",
    "    else:    \n",
    "        dataP = data.split(' ')\n",
    "        dia_mes = int(dataP[0][0:2])\n",
    "        mes = MONTHS[dataP[1]]\n",
    "        ano_atual = int(datetime.now().strftime('%Y'))\n",
    "        mes_atual = int(datetime.now().strftime('%m'))\n",
    "        ano = ano_atual if mes_atual >= mes else ano_atual - 1\n",
    "        data_padrao = datetime(year=ano, month=mes, day=dia_mes).strftime('%Y-%m-%d')\n",
    "    \n",
    "    return data_padrao + hora"
   ]
  },
  {
   "cell_type": "code",
   "execution_count": 18,
   "metadata": {},
   "outputs": [],
   "source": [
    "backup = BackupApiResp(\"./banco_backup.db\")"
   ]
  },
  {
   "cell_type": "code",
   "execution_count": 21,
   "metadata": {},
   "outputs": [
    {
     "data": {
      "text/plain": [
       "True"
      ]
     },
     "execution_count": 21,
     "metadata": {},
     "output_type": "execute_result"
    }
   ],
   "source": [
    "#Teste\n",
    "backup.add_row_anuncios_resumo('www.teste','hobbys;livros','livros','Brasil;Minas;31','mágico de oz',200.98, 1,'www.teste2','2022-08-30 15:21')\n",
    "backup.has_url_ad_in_anuncio_resumo('www.teste2')"
   ]
  }
 ],
 "metadata": {
  "interpreter": {
   "hash": "dbf242f9ae95059c186c6323b314d6698994e3ef345fd3978f42b2a4e2555921"
  },
  "kernelspec": {
   "display_name": "Python 3.8.8 64-bit ('venv': venv)",
   "name": "python3"
  },
  "language_info": {
   "codemirror_mode": {
    "name": "ipython",
    "version": 3
   },
   "file_extension": ".py",
   "mimetype": "text/x-python",
   "name": "python",
   "nbconvert_exporter": "python",
   "pygments_lexer": "ipython3",
   "version": "3.8.8"
  },
  "orig_nbformat": 4
 },
 "nbformat": 4,
 "nbformat_minor": 2
}
