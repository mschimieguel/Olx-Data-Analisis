{
 "cells": [
  {
   "cell_type": "code",
   "execution_count": null,
   "metadata": {
    "id": "uCHzHNZ58k0K"
   },
   "outputs": [],
   "source": [
    "import numpy as np\n",
    "import pandas as pd\n",
    "import matplotlib.pyplot as plt"
   ]
  },
  {
   "cell_type": "code",
   "execution_count": null,
   "metadata": {
    "id": "4G9tq6pzndIe"
   },
   "outputs": [],
   "source": [
    "import nltk\n",
    "import re\n",
    "from gensim.models import Word2Vec\n",
    "from nltk.corpus import stopwords\n",
    "from sklearn.manifold import TSNE \n",
    "import sqlite3"
   ]
  },
  {
   "cell_type": "code",
   "execution_count": null,
   "metadata": {
    "colab": {
     "base_uri": "https://localhost:8080/"
    },
    "id": "OCnYO4OOums_",
    "outputId": "50a01bed-42a7-4f6d-84d8-36202824efac"
   },
   "outputs": [],
   "source": [
    "nltk.download('punkt')\n",
    "nltk.download('stopwords')"
   ]
  },
  {
   "cell_type": "code",
   "execution_count": null,
   "metadata": {
    "colab": {
     "base_uri": "https://localhost:8080/",
     "height": 424
    },
    "id": "edVQK09D8r-1",
    "outputId": "06dac773-2f18-4588-edf7-78d5644d9c66"
   },
   "outputs": [],
   "source": [
    "con = sqlite3.connect(\"C:/Users/israe/OneDrive/Documentos/DB/banco_scraping_olx.db\")\n",
    "df = pd.read_sql_query(\"SELECT * FROM anuncios_resumo\", con)"
   ]
  },
  {
   "cell_type": "code",
   "execution_count": null,
   "metadata": {},
   "outputs": [],
   "source": [
    "df.drop_duplicates(inplace=True)"
   ]
  },
  {
   "cell_type": "code",
   "execution_count": null,
   "metadata": {
    "id": "LKXILROTzIzW"
   },
   "outputs": [],
   "source": [
    "def build_corpus(data):\n",
    "  stop_words = set(stopwords.words('portuguese'))\n",
    "  corpus = []\n",
    "  for col in [\"titulo_anuncio\"]:\n",
    "    for sentence in data[col].iteritems():\n",
    "      word_list = re.split('[\\n#$&()./:=_*?!<>| ,+-;]', sentence[1])\n",
    "      filtered = [w.lower() for w in word_list if not w.lower() in stop_words]\n",
    "      corpus.append(list(filter(None, filtered)))\n",
    "  return corpus"
   ]
  },
  {
   "cell_type": "code",
   "execution_count": null,
   "metadata": {
    "scrolled": true
   },
   "outputs": [],
   "source": [
    "df"
   ]
  },
  {
   "cell_type": "code",
   "execution_count": null,
   "metadata": {},
   "outputs": [],
   "source": [
    "mask = df[\"categoria_completa\"].str.contains(\"Imóveis|Autos e peças|Eletrônicos e celulares\", regex = True)"
   ]
  },
  {
   "cell_type": "code",
   "execution_count": null,
   "metadata": {},
   "outputs": [],
   "source": [
    "df2 = df[mask]"
   ]
  },
  {
   "cell_type": "code",
   "execution_count": null,
   "metadata": {},
   "outputs": [],
   "source": [
    "df2"
   ]
  },
  {
   "cell_type": "code",
   "execution_count": null,
   "metadata": {},
   "outputs": [],
   "source": [
    "corpus = build_corpus(df)"
   ]
  },
  {
   "cell_type": "code",
   "execution_count": null,
   "metadata": {
    "colab": {
     "base_uri": "https://localhost:8080/"
    },
    "id": "MUAIx4tQz7dI",
    "outputId": "96ddedd8-076d-4b81-91d7-896f53db5652"
   },
   "outputs": [],
   "source": [
    "model = Word2Vec(corpus, min_count = 5, max_final_vocab=500000, vector_size = 300)"
   ]
  },
  {
   "cell_type": "code",
   "execution_count": null,
   "metadata": {},
   "outputs": [],
   "source": [
    "model = Word2Vec.load(\"word2vec.model\")"
   ]
  },
  {
   "cell_type": "code",
   "execution_count": null,
   "metadata": {},
   "outputs": [],
   "source": [
    "model.save(\"word2vec.model\")"
   ]
  },
  {
   "cell_type": "code",
   "execution_count": null,
   "metadata": {},
   "outputs": [],
   "source": [
    "corpus.clear()"
   ]
  },
  {
   "cell_type": "code",
   "execution_count": null,
   "metadata": {},
   "outputs": [],
   "source": [
    "del(corpus)"
   ]
  },
  {
   "cell_type": "code",
   "execution_count": null,
   "metadata": {},
   "outputs": [],
   "source": [
    "del(mask)"
   ]
  },
  {
   "cell_type": "code",
   "execution_count": null,
   "metadata": {},
   "outputs": [],
   "source": [
    "del(con)"
   ]
  },
  {
   "cell_type": "code",
   "execution_count": null,
   "metadata": {},
   "outputs": [],
   "source": [
    "del(df)"
   ]
  },
  {
   "cell_type": "code",
   "execution_count": null,
   "metadata": {},
   "outputs": [],
   "source": [
    "del(df2)"
   ]
  },
  {
   "cell_type": "code",
   "execution_count": null,
   "metadata": {},
   "outputs": [],
   "source": [
    "corpus2 = build_corpus(df2)"
   ]
  },
  {
   "cell_type": "code",
   "execution_count": null,
   "metadata": {},
   "outputs": [],
   "source": [
    "tamC2 = len(corpus2)"
   ]
  },
  {
   "cell_type": "code",
   "execution_count": null,
   "metadata": {},
   "outputs": [],
   "source": [
    "len(df.index)"
   ]
  },
  {
   "cell_type": "code",
   "execution_count": null,
   "metadata": {},
   "outputs": [],
   "source": [
    "print(model.wv.key_to_index)"
   ]
  },
  {
   "cell_type": "code",
   "execution_count": null,
   "metadata": {
    "id": "VRAEguTTE2KP"
   },
   "outputs": [],
   "source": [
    "vec = np.zeros((tamC2, 300))\n",
    "for i in range(tamC2):\n",
    "    for w in corpus2[i]:\n",
    "        if w in model.wv.key_to_index:\n",
    "            vec[i] += model.wv[w]\n",
    "    vec[i] = np.mean(vec[i], axis=0)"
   ]
  },
  {
   "cell_type": "code",
   "execution_count": null,
   "metadata": {},
   "outputs": [],
   "source": [
    "vec"
   ]
  },
  {
   "cell_type": "code",
   "execution_count": null,
   "metadata": {},
   "outputs": [],
   "source": [
    "corpus2"
   ]
  },
  {
   "cell_type": "code",
   "execution_count": null,
   "metadata": {
    "id": "tdpk7iVWz62e"
   },
   "outputs": [],
   "source": [
    "tsne = TSNE(n_components=2, random_state=0) "
   ]
  },
  {
   "cell_type": "code",
   "execution_count": null,
   "metadata": {
    "colab": {
     "base_uri": "https://localhost:8080/"
    },
    "id": "EXWrIiXvIfyu",
    "outputId": "b9378a2c-39e7-439b-dee7-716e0c3453b2"
   },
   "outputs": [],
   "source": [
    "Y = tsne.fit_transform(vec[:,:1000]) "
   ]
  },
  {
   "cell_type": "code",
   "execution_count": null,
   "metadata": {
    "colab": {
     "base_uri": "https://localhost:8080/",
     "height": 465
    },
    "id": "-XHyCc3oIn7V",
    "outputId": "a6317dab-1d29-4159-acd4-41edfe5893f5"
   },
   "outputs": [],
   "source": [
    "plt.scatter(Y[:, 0], Y[:, 1]) \n",
    "for label, x, y in zip(vocabulary, Y[:, 0], Y[:, 1]): \n",
    "  plt.annotate(label, xy=(x, y), xytext=(0, 0), textcoords='offset points') \n",
    "  plt.show() "
   ]
  }
 ],
 "metadata": {
  "colab": {
   "collapsed_sections": [],
   "provenance": []
  },
  "kernelspec": {
   "display_name": "Python 3 (ipykernel)",
   "language": "python",
   "name": "python3"
  },
  "language_info": {
   "codemirror_mode": {
    "name": "ipython",
    "version": 3
   },
   "file_extension": ".py",
   "mimetype": "text/x-python",
   "name": "python",
   "nbconvert_exporter": "python",
   "pygments_lexer": "ipython3",
   "version": "3.9.7"
  }
 },
 "nbformat": 4,
 "nbformat_minor": 1
}
